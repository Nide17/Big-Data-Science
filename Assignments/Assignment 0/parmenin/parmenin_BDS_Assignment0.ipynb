{
 "cells": [
  {
   "cell_type": "markdown",
   "metadata": {},
   "source": [
    "### QUESTION 1"
   ]
  },
  {
   "cell_type": "markdown",
   "metadata": {},
   "source": [
    "SEE THE REPORT"
   ]
  },
  {
   "cell_type": "markdown",
   "metadata": {},
   "source": [
    "### QUESTION 2"
   ]
  },
  {
   "cell_type": "code",
   "execution_count": 7,
   "metadata": {},
   "outputs": [],
   "source": [
    "# IMPORTING LIBRARIES\n",
    "import math              # Importing the math library\n",
    "import numpy as np       # Importing the numpy library"
   ]
  },
  {
   "cell_type": "code",
   "execution_count": 8,
   "metadata": {},
   "outputs": [
    {
     "name": "stdout",
     "output_type": "stream",
     "text": [
      "Hello Big Data Science\n"
     ]
    }
   ],
   "source": [
    "# Prints out \"Hello Big Data Science\" using the “print ()” built-in function in python.\n",
    "print(\"Hello Big Data Science\")  # PRINTING \"Hello Big Data Science\""
   ]
  },
  {
   "cell_type": "code",
   "execution_count": 9,
   "metadata": {},
   "outputs": [
    {
     "name": "stdout",
     "output_type": "stream",
     "text": [
      "3.141592653589793\n",
      "3.141592653589793\n",
      "3.141592653589793\n"
     ]
    }
   ],
   "source": [
    "# Pi: Frequently denoted by π, it is a mathematical constant that is approximately equal to 3.141592653589793. \n",
    "# It is used in many fields of mathematics and science like geometry, trigonometry, and calculus to calculate the area of a circle, and so on.\n",
    "# In python, Pi is available in the math library and in the NumPy library as well.\n",
    "\n",
    "Pi = 3.141592653589793   # Denoted by π, it is a mathematical constant\n",
    "print(Pi)                # Prints the value of Pi\n",
    "print(np.pi)             # Prints Pi available in numpy library\n",
    "print(math.pi)           # Prints Pi available in math library\n"
   ]
  },
  {
   "cell_type": "code",
   "execution_count": 10,
   "metadata": {},
   "outputs": [
    {
     "name": "stdout",
     "output_type": "stream",
     "text": [
      "2.718281828459045\n",
      "2.718281828459045\n",
      "2.718281828459045\n"
     ]
    }
   ],
   "source": [
    "# e: Euler's constant (e), is a mathematical constant that is approximately equal to 2.718281828459045.\n",
    "# It is frequently used as the base of natural logarithms or Neperian’s logarithms. \n",
    "# In python, e is available in the math library, and in NumPy, the library is as well.\n",
    "# Euler's constant (e), a mathematical constant, the base of the natural logarithms.\n",
    "\n",
    "e = 2.718281828459045\n",
    "print(e)                 # Prints the value of e\n",
    "print(np.exp(1))         # Prints value of e through numpy library\n",
    "print(math.e)            # Prints value of e through math library"
   ]
  },
  {
   "cell_type": "code",
   "execution_count": 11,
   "metadata": {},
   "outputs": [
    {
     "name": "stdout",
     "output_type": "stream",
     "text": [
      "1.618033988749895\n",
      "1.618033988749895\n",
      "1.618033988749895\n"
     ]
    }
   ],
   "source": [
    "# Phi: The golden ratio (phi), also known as the golden mean, golden section, golden number, or golden proportion, is a special number that is approximately equal to 1.618033988749895.\n",
    "# Two numbers are in the golden ratio if their ratio is the same as the ratio of their sum to the larger of the two quantities.\n",
    "# The formula for phi is ((a + b) / a) = a/b = phi where a > b > 0.\n",
    "# In python, phi is available in the math library, and in NumPy, the library is as well.\n",
    "\n",
    "phi = 1.618033988749895  # Formula: ((a +b) / a) = a/b = phi  i.e. a>b>0\n",
    "phi1 = (1 + math.sqrt(5)) / 2   # calculating the value of phi\n",
    "phi2 = (1 + np.sqrt(5)) / 2     # calculating the value of phi through numpy library\n",
    "\n",
    "print(phi)              # Prints the phi's value\n",
    "print(phi1)             # Prints the phi's value\n",
    "print(phi2)             # Prints the phi's value\n"
   ]
  },
  {
   "cell_type": "code",
   "execution_count": 12,
   "metadata": {},
   "outputs": [
    {
     "name": "stdout",
     "output_type": "stream",
     "text": [
      "The sum of Pi, e, and phi is:  7.477908470798733\n"
     ]
    }
   ],
   "source": [
    "# Printing the sum of three constants Pi, e, and phi\n",
    "# Summing up the constants Pi, e, and phi\n",
    "sum3 = Pi + e + phi\n",
    "\n",
    "# Printing the sum of the constants\n",
    "print(\"The sum of Pi, e, and phi is: \", sum3)\n"
   ]
  }
 ],
 "metadata": {
  "kernelspec": {
   "display_name": "Python 3",
   "language": "python",
   "name": "python3"
  },
  "language_info": {
   "codemirror_mode": {
    "name": "ipython",
    "version": 3
   },
   "file_extension": ".py",
   "mimetype": "text/x-python",
   "name": "python",
   "nbconvert_exporter": "python",
   "pygments_lexer": "ipython3",
   "version": "3.10.6"
  },
  "orig_nbformat": 4
 },
 "nbformat": 4,
 "nbformat_minor": 2
}
